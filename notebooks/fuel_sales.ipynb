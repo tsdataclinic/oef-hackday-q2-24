{
 "cells": [
  {
   "cell_type": "code",
   "execution_count": 1,
   "metadata": {},
   "outputs": [
    {
     "name": "stderr",
     "output_type": "stream",
     "text": [
      "/nas/local/simscripts/canyon/.nest/canyon_nest/lib/python3.10/site-packages/pandas/core/arrays/masked.py:60: UserWarning: Pandas requires version '1.3.6' or newer of 'bottleneck' (version '1.3.2' currently installed).\n",
      "  from pandas.core import (\n"
     ]
    }
   ],
   "source": [
    "import os\n",
    "os.chdir(\"/home/canyon/hackday-q2-2024-open-earth-foundation\")\n",
    "from src.utils import *\n",
    "import censusdis.data as ced\n",
    "import matplotlib.pyplot as plt\n",
    "alber_eq_us = \"EPSG:5070\""
   ]
  },
  {
   "cell_type": "code",
   "execution_count": 2,
   "metadata": {},
   "outputs": [
    {
     "name": "stderr",
     "output_type": "stream",
     "text": [
      "Warning 3: Cannot find header.dxf (GDAL_DATA is not defined)\n",
      "Cannot find header.dxf (GDAL_DATA is not defined)\n"
     ]
    }
   ],
   "source": [
    "city_gdf = load_data_from_ts3(\"Geometries/US_city_geometries.geojson\")"
   ]
  },
  {
   "cell_type": "code",
   "execution_count": 20,
   "metadata": {},
   "outputs": [],
   "source": [
    "fuel_sales = load_data_from_ts3(\"DOT Fuel Sales/monthly_fuel_sales_by_month_2023.csv\")\n",
    "fuel_sales = fuel_sales.reset_index()\n",
    "for col in fuel_sales.columns:\n",
    "    if col != \"State\":\n",
    "        fuel_sales[col] = fuel_sales[col].astype(str).str.replace(',', '').astype(int)"
   ]
  },
  {
   "cell_type": "code",
   "execution_count": 28,
   "metadata": {},
   "outputs": [],
   "source": [
    "trips = load_data_from_ts3(\"BTS Trips/Trips_by_Distance_20240523.csv\")\n",
    "trips[\"Date\"] = pd.to_datetime(trips[\"Date\"])"
   ]
  },
  {
   "cell_type": "code",
   "execution_count": 101,
   "metadata": {},
   "outputs": [],
   "source": [
    "trips_2023 = trips[trips.Date.dt.year == 2023]"
   ]
  },
  {
   "cell_type": "code",
   "execution_count": 102,
   "metadata": {},
   "outputs": [],
   "source": [
    "#trips_2023.fillna(0, inplace = True)"
   ]
  },
  {
   "cell_type": "code",
   "execution_count": 109,
   "metadata": {},
   "outputs": [],
   "source": [
    "trips_state = trips_2023.query(\"Level == 'State'\").reset_index()\n",
    "\n",
    "multiplication_dict = {'Number of Trips <1' : 0.5, 'Number of Trips 1-3' : 2,\n",
    "                       'Number of Trips 3-5' : 4,\n",
    "       'Number of Trips 5-10' : 7, 'Number of Trips 10-25' : 13,\n",
    "       'Number of Trips 25-50' : 37, 'Number of Trips 50-100' : 75,\n",
    "       'Number of Trips 100-250' : 175, 'Number of Trips 250-500' : 375,\n",
    "       'Number of Trips >=500' : 600}\n",
    "\n",
    "trips_state[\"month\"] = trips_state.Date.dt.month_name()\n",
    "\n",
    "trips_state_month = trips_state.groupby([\"State Postal Code\", \"month\"])[list(multiplication_dict.keys())].sum().reset_index()\n",
    "\n",
    "for key in multiplication_dict:\n",
    "    trips_state_month[key + \"_miles\"] = trips_state_month[key] * multiplication_dict[key]\n",
    "\n",
    "trips_state_month[\"total_trip_miles\"] = trips_state_month[trips_state_month.columns[trips_state_month.columns.str.endswith(\"miles\")]].sum(axis = 1)"
   ]
  },
  {
   "cell_type": "code",
   "execution_count": 114,
   "metadata": {},
   "outputs": [
    {
     "data": {
      "text/html": [
       "<div>\n",
       "<style scoped>\n",
       "    .dataframe tbody tr th:only-of-type {\n",
       "        vertical-align: middle;\n",
       "    }\n",
       "\n",
       "    .dataframe tbody tr th {\n",
       "        vertical-align: top;\n",
       "    }\n",
       "\n",
       "    .dataframe thead th {\n",
       "        text-align: right;\n",
       "    }\n",
       "</style>\n",
       "<table border=\"1\" class=\"dataframe\">\n",
       "  <thead>\n",
       "    <tr style=\"text-align: right;\">\n",
       "      <th></th>\n",
       "      <th>State Postal Code</th>\n",
       "      <th>month</th>\n",
       "      <th>total_trip_miles</th>\n",
       "    </tr>\n",
       "  </thead>\n",
       "  <tbody>\n",
       "    <tr>\n",
       "      <th>0</th>\n",
       "      <td>AK</td>\n",
       "      <td>April</td>\n",
       "      <td>8.689321e+08</td>\n",
       "    </tr>\n",
       "    <tr>\n",
       "      <th>1</th>\n",
       "      <td>AK</td>\n",
       "      <td>August</td>\n",
       "      <td>9.101131e+08</td>\n",
       "    </tr>\n",
       "    <tr>\n",
       "      <th>2</th>\n",
       "      <td>AK</td>\n",
       "      <td>December</td>\n",
       "      <td>8.610540e+08</td>\n",
       "    </tr>\n",
       "    <tr>\n",
       "      <th>3</th>\n",
       "      <td>AK</td>\n",
       "      <td>February</td>\n",
       "      <td>8.131082e+08</td>\n",
       "    </tr>\n",
       "    <tr>\n",
       "      <th>4</th>\n",
       "      <td>AK</td>\n",
       "      <td>January</td>\n",
       "      <td>9.009081e+08</td>\n",
       "    </tr>\n",
       "    <tr>\n",
       "      <th>...</th>\n",
       "      <td>...</td>\n",
       "      <td>...</td>\n",
       "      <td>...</td>\n",
       "    </tr>\n",
       "    <tr>\n",
       "      <th>607</th>\n",
       "      <td>WY</td>\n",
       "      <td>March</td>\n",
       "      <td>1.012557e+09</td>\n",
       "    </tr>\n",
       "    <tr>\n",
       "      <th>608</th>\n",
       "      <td>WY</td>\n",
       "      <td>May</td>\n",
       "      <td>1.085158e+09</td>\n",
       "    </tr>\n",
       "    <tr>\n",
       "      <th>609</th>\n",
       "      <td>WY</td>\n",
       "      <td>November</td>\n",
       "      <td>1.034470e+09</td>\n",
       "    </tr>\n",
       "    <tr>\n",
       "      <th>610</th>\n",
       "      <td>WY</td>\n",
       "      <td>October</td>\n",
       "      <td>1.082055e+09</td>\n",
       "    </tr>\n",
       "    <tr>\n",
       "      <th>611</th>\n",
       "      <td>WY</td>\n",
       "      <td>September</td>\n",
       "      <td>1.142156e+09</td>\n",
       "    </tr>\n",
       "  </tbody>\n",
       "</table>\n",
       "<p>612 rows × 3 columns</p>\n",
       "</div>"
      ],
      "text/plain": [
       "    State Postal Code      month  total_trip_miles\n",
       "0                  AK      April      8.689321e+08\n",
       "1                  AK     August      9.101131e+08\n",
       "2                  AK   December      8.610540e+08\n",
       "3                  AK   February      8.131082e+08\n",
       "4                  AK    January      9.009081e+08\n",
       "..                ...        ...               ...\n",
       "607                WY      March      1.012557e+09\n",
       "608                WY        May      1.085158e+09\n",
       "609                WY   November      1.034470e+09\n",
       "610                WY    October      1.082055e+09\n",
       "611                WY  September      1.142156e+09\n",
       "\n",
       "[612 rows x 3 columns]"
      ]
     },
     "execution_count": 114,
     "metadata": {},
     "output_type": "execute_result"
    }
   ],
   "source": [
    "trips_state_month[[\"State Postal Code\", \"month\", \"total_trip_miles\"]]"
   ]
  },
  {
   "cell_type": "code",
   "execution_count": 120,
   "metadata": {},
   "outputs": [],
   "source": [
    "state_dict = {\n",
    "    'AL': 'Alabama',\n",
    "    'AK': 'Alaska',\n",
    "    'AZ': 'Arizona',\n",
    "    'AR': 'Arkansas',\n",
    "    'CA': 'California',\n",
    "    'CO': 'Colorado',\n",
    "    'CT': 'Connecticut',\n",
    "    'DE': 'Delaware',\n",
    "    'FL': 'Florida',\n",
    "    'GA': 'Georgia',\n",
    "    'HI': 'Hawaii',\n",
    "    'ID': 'Idaho',\n",
    "    'IL': 'Illinois',\n",
    "    'IN': 'Indiana',\n",
    "    'IA': 'Iowa',\n",
    "    'KS': 'Kansas',\n",
    "    'KY': 'Kentucky',\n",
    "    'LA': 'Louisiana',\n",
    "    'ME': 'Maine',\n",
    "    'MD': 'Maryland',\n",
    "    'MA': 'Massachusetts',\n",
    "    'MI': 'Michigan',\n",
    "    'MN': 'Minnesota',\n",
    "    'MS': 'Mississippi',\n",
    "    'MO': 'Missouri',\n",
    "    'MT': 'Montana',\n",
    "    'NE': 'Nebraska',\n",
    "    'NV': 'Nevada',\n",
    "    'NH': 'New Hampshire',\n",
    "    'NJ': 'New Jersey',\n",
    "    'NM': 'New Mexico',\n",
    "    'NY': 'New York',\n",
    "    'NC': 'North Carolina',\n",
    "    'ND': 'North Dakota',\n",
    "    'OH': 'Ohio',\n",
    "    'OK': 'Oklahoma',\n",
    "    'OR': 'Oregon',\n",
    "    'PA': 'Pennsylvania',\n",
    "    'RI': 'Rhode Island',\n",
    "    'SC': 'South Carolina',\n",
    "    'SD': 'South Dakota',\n",
    "    'TN': 'Tennessee',\n",
    "    'TX': 'Texas',\n",
    "    'UT': 'Utah',\n",
    "    'VT': 'Vermont',\n",
    "    'VA': 'Virginia',\n",
    "    'WA': 'Washington',\n",
    "    'WV': 'West Virginia',\n",
    "    'WI': 'Wisconsin',\n",
    "    'WY': 'Wyoming'\n",
    "}"
   ]
  },
  {
   "cell_type": "code",
   "execution_count": 123,
   "metadata": {},
   "outputs": [],
   "source": [
    "fuel_sales_monthly = fuel_sales.melt(id_vars = \"State\").rename({\"variable\" : \"month\", \"value\" : \"total_fuel\", \"State\" : \"state\"}, axis = 1)"
   ]
  },
  {
   "cell_type": "code",
   "execution_count": 140,
   "metadata": {},
   "outputs": [],
   "source": [
    "fuel_state_2023 = fuel_sales_monthly.groupby(\"state\")[\"total_fuel\"].sum().reset_index()\n",
    "write_to_ts3(fuel_sales_monthly, \"DOT Fuel Sales/state_sales_month.csv\")\n",
    "write_to_ts3(fuel_state_2023, \"DOT Fuel Sales/state_sales_23.csv\")"
   ]
  },
  {
   "cell_type": "code",
   "execution_count": 124,
   "metadata": {},
   "outputs": [
    {
     "name": "stderr",
     "output_type": "stream",
     "text": [
      "/tmp/ipykernel_1611130/2853822821.py:2: SettingWithCopyWarning: \n",
      "A value is trying to be set on a copy of a slice from a DataFrame.\n",
      "Try using .loc[row_indexer,col_indexer] = value instead\n",
      "\n",
      "See the caveats in the documentation: https://pandas.pydata.org/pandas-docs/stable/user_guide/indexing.html#returning-a-view-versus-a-copy\n",
      "  trips_state_trim[\"state\"] = trips_state_trim[\"State Postal Code\"].map(state_dict)\n"
     ]
    }
   ],
   "source": [
    "trips_state_trim = trips_state_month[[\"State Postal Code\", \"month\", \"total_trip_miles\"]]\n",
    "trips_state_trim[\"state\"] = trips_state_trim[\"State Postal Code\"].map(state_dict)"
   ]
  },
  {
   "cell_type": "code",
   "execution_count": 141,
   "metadata": {},
   "outputs": [
    {
     "data": {
      "text/html": [
       "<div>\n",
       "<style scoped>\n",
       "    .dataframe tbody tr th:only-of-type {\n",
       "        vertical-align: middle;\n",
       "    }\n",
       "\n",
       "    .dataframe tbody tr th {\n",
       "        vertical-align: top;\n",
       "    }\n",
       "\n",
       "    .dataframe thead th {\n",
       "        text-align: right;\n",
       "    }\n",
       "</style>\n",
       "<table border=\"1\" class=\"dataframe\">\n",
       "  <thead>\n",
       "    <tr style=\"text-align: right;\">\n",
       "      <th></th>\n",
       "      <th>State Postal Code</th>\n",
       "      <th>month</th>\n",
       "      <th>total_trip_miles</th>\n",
       "      <th>state</th>\n",
       "    </tr>\n",
       "  </thead>\n",
       "  <tbody>\n",
       "    <tr>\n",
       "      <th>0</th>\n",
       "      <td>AK</td>\n",
       "      <td>April</td>\n",
       "      <td>8.689321e+08</td>\n",
       "      <td>Alaska</td>\n",
       "    </tr>\n",
       "    <tr>\n",
       "      <th>1</th>\n",
       "      <td>AK</td>\n",
       "      <td>August</td>\n",
       "      <td>9.101131e+08</td>\n",
       "      <td>Alaska</td>\n",
       "    </tr>\n",
       "    <tr>\n",
       "      <th>2</th>\n",
       "      <td>AK</td>\n",
       "      <td>December</td>\n",
       "      <td>8.610540e+08</td>\n",
       "      <td>Alaska</td>\n",
       "    </tr>\n",
       "    <tr>\n",
       "      <th>3</th>\n",
       "      <td>AK</td>\n",
       "      <td>February</td>\n",
       "      <td>8.131082e+08</td>\n",
       "      <td>Alaska</td>\n",
       "    </tr>\n",
       "    <tr>\n",
       "      <th>4</th>\n",
       "      <td>AK</td>\n",
       "      <td>January</td>\n",
       "      <td>9.009081e+08</td>\n",
       "      <td>Alaska</td>\n",
       "    </tr>\n",
       "    <tr>\n",
       "      <th>...</th>\n",
       "      <td>...</td>\n",
       "      <td>...</td>\n",
       "      <td>...</td>\n",
       "      <td>...</td>\n",
       "    </tr>\n",
       "    <tr>\n",
       "      <th>607</th>\n",
       "      <td>WY</td>\n",
       "      <td>March</td>\n",
       "      <td>1.012557e+09</td>\n",
       "      <td>Wyoming</td>\n",
       "    </tr>\n",
       "    <tr>\n",
       "      <th>608</th>\n",
       "      <td>WY</td>\n",
       "      <td>May</td>\n",
       "      <td>1.085158e+09</td>\n",
       "      <td>Wyoming</td>\n",
       "    </tr>\n",
       "    <tr>\n",
       "      <th>609</th>\n",
       "      <td>WY</td>\n",
       "      <td>November</td>\n",
       "      <td>1.034470e+09</td>\n",
       "      <td>Wyoming</td>\n",
       "    </tr>\n",
       "    <tr>\n",
       "      <th>610</th>\n",
       "      <td>WY</td>\n",
       "      <td>October</td>\n",
       "      <td>1.082055e+09</td>\n",
       "      <td>Wyoming</td>\n",
       "    </tr>\n",
       "    <tr>\n",
       "      <th>611</th>\n",
       "      <td>WY</td>\n",
       "      <td>September</td>\n",
       "      <td>1.142156e+09</td>\n",
       "      <td>Wyoming</td>\n",
       "    </tr>\n",
       "  </tbody>\n",
       "</table>\n",
       "<p>612 rows × 4 columns</p>\n",
       "</div>"
      ],
      "text/plain": [
       "    State Postal Code      month  total_trip_miles    state\n",
       "0                  AK      April      8.689321e+08   Alaska\n",
       "1                  AK     August      9.101131e+08   Alaska\n",
       "2                  AK   December      8.610540e+08   Alaska\n",
       "3                  AK   February      8.131082e+08   Alaska\n",
       "4                  AK    January      9.009081e+08   Alaska\n",
       "..                ...        ...               ...      ...\n",
       "607                WY      March      1.012557e+09  Wyoming\n",
       "608                WY        May      1.085158e+09  Wyoming\n",
       "609                WY   November      1.034470e+09  Wyoming\n",
       "610                WY    October      1.082055e+09  Wyoming\n",
       "611                WY  September      1.142156e+09  Wyoming\n",
       "\n",
       "[612 rows x 4 columns]"
      ]
     },
     "execution_count": 141,
     "metadata": {},
     "output_type": "execute_result"
    }
   ],
   "source": [
    "write_to_cs3(trips_state_trim, \"\")"
   ]
  },
  {
   "cell_type": "code",
   "execution_count": 128,
   "metadata": {},
   "outputs": [
    {
     "data": {
      "text/html": [
       "<div>\n",
       "<style scoped>\n",
       "    .dataframe tbody tr th:only-of-type {\n",
       "        vertical-align: middle;\n",
       "    }\n",
       "\n",
       "    .dataframe tbody tr th {\n",
       "        vertical-align: top;\n",
       "    }\n",
       "\n",
       "    .dataframe thead th {\n",
       "        text-align: right;\n",
       "    }\n",
       "</style>\n",
       "<table border=\"1\" class=\"dataframe\">\n",
       "  <thead>\n",
       "    <tr style=\"text-align: right;\">\n",
       "      <th></th>\n",
       "      <th>State Postal Code</th>\n",
       "      <th>month</th>\n",
       "      <th>total_trip_miles</th>\n",
       "      <th>state</th>\n",
       "      <th>total_fuel</th>\n",
       "    </tr>\n",
       "  </thead>\n",
       "  <tbody>\n",
       "    <tr>\n",
       "      <th>0</th>\n",
       "      <td>AK</td>\n",
       "      <td>April</td>\n",
       "      <td>868932134.5</td>\n",
       "      <td>Alaska</td>\n",
       "      <td>37577784</td>\n",
       "    </tr>\n",
       "    <tr>\n",
       "      <th>1</th>\n",
       "      <td>AK</td>\n",
       "      <td>August</td>\n",
       "      <td>910113056.0</td>\n",
       "      <td>Alaska</td>\n",
       "      <td>59220896</td>\n",
       "    </tr>\n",
       "    <tr>\n",
       "      <th>2</th>\n",
       "      <td>AK</td>\n",
       "      <td>December</td>\n",
       "      <td>861054009.5</td>\n",
       "      <td>Alaska</td>\n",
       "      <td>36414758</td>\n",
       "    </tr>\n",
       "    <tr>\n",
       "      <th>3</th>\n",
       "      <td>AK</td>\n",
       "      <td>February</td>\n",
       "      <td>813108174.0</td>\n",
       "      <td>Alaska</td>\n",
       "      <td>34442446</td>\n",
       "    </tr>\n",
       "    <tr>\n",
       "      <th>4</th>\n",
       "      <td>AK</td>\n",
       "      <td>January</td>\n",
       "      <td>900908105.0</td>\n",
       "      <td>Alaska</td>\n",
       "      <td>37253959</td>\n",
       "    </tr>\n",
       "  </tbody>\n",
       "</table>\n",
       "</div>"
      ],
      "text/plain": [
       "  State Postal Code     month  total_trip_miles   state  total_fuel\n",
       "0                AK     April       868932134.5  Alaska    37577784\n",
       "1                AK    August       910113056.0  Alaska    59220896\n",
       "2                AK  December       861054009.5  Alaska    36414758\n",
       "3                AK  February       813108174.0  Alaska    34442446\n",
       "4                AK   January       900908105.0  Alaska    37253959"
      ]
     },
     "execution_count": 128,
     "metadata": {},
     "output_type": "execute_result"
    }
   ],
   "source": [
    "trips_fuel = trips_state_trim.merge(fuel_sales_monthly)\n",
    "trips_fuel.head()"
   ]
  },
  {
   "cell_type": "code",
   "execution_count": 133,
   "metadata": {},
   "outputs": [
    {
     "data": {
      "image/png": "[encoded data removed]"
     },
     "metadata": {
      "image/png": {
       "height": 480,
       "width": 640
      }
     },
     "output_type": "display_data"
    }
   ],
   "source": [
    "from plotnine import *\n",
    "\n",
    "(ggplot(trips_fuel.query('month == \"March\"'), aes(x = \"total_trip_miles\", y = \"total_fuel\", color = \"month\"))) + geom_point() "
   ]
  },
  {
   "cell_type": "code",
   "execution_count": null,
   "metadata": {},
   "outputs": [],
   "source": []
  }
 ],
 "metadata": {
  "kernelspec": {
   "display_name": "canyon_nest",
   "language": "python",
   "name": "python3"
  },
  "language_info": {
   "codemirror_mode": {
    "name": "ipython",
    "version": 3
   },
   "file_extension": ".py",
   "mimetype": "text/x-python",
   "name": "python",
   "nbconvert_exporter": "python",
   "pygments_lexer": "ipython3",
   "version": "3.10.14"
  }
 },
 "nbformat": 4,
 "nbformat_minor": 2
}
