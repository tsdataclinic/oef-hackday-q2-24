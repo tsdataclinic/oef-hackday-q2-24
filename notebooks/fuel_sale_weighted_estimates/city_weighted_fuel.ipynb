{
 "cells": [
  {
   "cell_type": "code",
   "execution_count": 4,
   "metadata": {},
   "outputs": [],
   "source": [
    "import sys\n",
    "sys.path.append(\"../../\")\n",
    "from src.utils import *\n",
    "import censusdis.data as ced\n",
    "alber_eq_us = \"EPSG:5070\""
   ]
  },
  {
   "cell_type": "code",
   "execution_count": 5,
   "metadata": {},
   "outputs": [
    {
     "data": {
      "text/html": [
       "<div>\n",
       "<style scoped>\n",
       "    .dataframe tbody tr th:only-of-type {\n",
       "        vertical-align: middle;\n",
       "    }\n",
       "\n",
       "    .dataframe tbody tr th {\n",
       "        vertical-align: top;\n",
       "    }\n",
       "\n",
       "    .dataframe thead th {\n",
       "        text-align: right;\n",
       "    }\n",
       "</style>\n",
       "<table border=\"1\" class=\"dataframe\">\n",
       "  <thead>\n",
       "    <tr style=\"text-align: right;\">\n",
       "      <th></th>\n",
       "      <th>STATE</th>\n",
       "      <th>NAME</th>\n",
       "      <th>total_pop</th>\n",
       "      <th>total_households</th>\n",
       "      <th>households_no_vehicle</th>\n",
       "      <th>geometry</th>\n",
       "      <th>vehicle_households</th>\n",
       "    </tr>\n",
       "  </thead>\n",
       "  <tbody>\n",
       "    <tr>\n",
       "      <th>0</th>\n",
       "      <td>42</td>\n",
       "      <td>Pennsylvania</td>\n",
       "      <td>12794885</td>\n",
       "      <td>5106601</td>\n",
       "      <td>544554</td>\n",
       "      <td>POLYGON ((-80.51989 40.90666, -80.51963 40.911...</td>\n",
       "      <td>4562047</td>\n",
       "    </tr>\n",
       "    <tr>\n",
       "      <th>1</th>\n",
       "      <td>06</td>\n",
       "      <td>California</td>\n",
       "      <td>39346023</td>\n",
       "      <td>13103114</td>\n",
       "      <td>920362</td>\n",
       "      <td>MULTIPOLYGON (((-118.60442 33.47855, -118.5987...</td>\n",
       "      <td>12182752</td>\n",
       "    </tr>\n",
       "    <tr>\n",
       "      <th>2</th>\n",
       "      <td>54</td>\n",
       "      <td>West Virginia</td>\n",
       "      <td>1807426</td>\n",
       "      <td>734235</td>\n",
       "      <td>62082</td>\n",
       "      <td>POLYGON ((-82.6432 38.16909, -82.643 38.16956,...</td>\n",
       "      <td>672153</td>\n",
       "    </tr>\n",
       "  </tbody>\n",
       "</table>\n",
       "</div>"
      ],
      "text/plain": [
       "  STATE           NAME  total_pop  total_households  households_no_vehicle  \\\n",
       "0    42   Pennsylvania   12794885           5106601                 544554   \n",
       "1    06     California   39346023          13103114                 920362   \n",
       "2    54  West Virginia    1807426            734235                  62082   \n",
       "\n",
       "                                            geometry  vehicle_households  \n",
       "0  POLYGON ((-80.51989 40.90666, -80.51963 40.911...             4562047  \n",
       "1  MULTIPOLYGON (((-118.60442 33.47855, -118.5987...            12182752  \n",
       "2  POLYGON ((-82.6432 38.16909, -82.643 38.16956,...              672153  "
      ]
     },
     "execution_count": 5,
     "metadata": {},
     "output_type": "execute_result"
    }
   ],
   "source": [
    "import censusdis.data as ced\n",
    "\n",
    "DATASET = \"acs/acs5\"\n",
    "YEAR = 2020\n",
    "CENSUS_VARS = {\"NAME\" : \"NAME\",\n",
    "               \"B01001_001E\" : \"total_pop\",\n",
    "               \"B25003_001E\": \"total_households\",\n",
    "               \"B08201_002E\" : \"households_no_vehicle\",\n",
    "\n",
    "}\n",
    "\n",
    "us_state_pops = ced.download(DATASET, YEAR, CENSUS_VARS, state= \"*\", with_geometry=True).rename(CENSUS_VARS, axis = 1)\n",
    "us_state_pops[\"vehicle_households\"] = us_state_pops[\"total_households\"] - us_state_pops[\"households_no_vehicle\"]\n",
    "us_state_pops.head(3)\n"
   ]
  },
  {
   "cell_type": "code",
   "execution_count": 6,
   "metadata": {},
   "outputs": [],
   "source": [
    "us_city_pops = gpd.read_file('../../data/city_pops_full.geojson')"
   ]
  },
  {
   "cell_type": "code",
   "execution_count": 7,
   "metadata": {},
   "outputs": [],
   "source": [
    "us_cities_state = us_city_pops.merge(us_state_pops[[\"STATE\", \"NAME\", \"total_pop\", \"vehicle_households\"]], left_on = \"fip\", right_on = \"STATE\")"
   ]
  },
  {
   "cell_type": "code",
   "execution_count": 8,
   "metadata": {},
   "outputs": [],
   "source": [
    "us_cities_state[\"pop_prop\"] = us_cities_state[\"interpolated_pop\"] / us_cities_state[\"total_pop\"]\n",
    "us_cities_state[\"vehicle_household_prop\"] = us_cities_state[\"interpolated_households_with_vehicle\"] / us_cities_state[\"vehicle_households\"]"
   ]
  },
  {
   "cell_type": "code",
   "execution_count": 9,
   "metadata": {},
   "outputs": [],
   "source": [
    "city_trip_distance = pd.read_csv(\"../../data/city_trip_distances.csv\")\n",
    "state_trip_distance = pd.read_csv(\"../../data/state_trip_distances.csv\")\n",
    "state_trip_distance[\"STATE\"] = state_trip_distance[\"STATE\"].astype(str).str.zfill(2)\n",
    "city_trip_distance.place_id = city_trip_distance.place_id.astype(str)"
   ]
  },
  {
   "cell_type": "code",
   "execution_count": 10,
   "metadata": {},
   "outputs": [],
   "source": [
    "city_trip_distance = city_trip_distance.drop(columns=['Unnamed: 0'])\n",
    "state_trip_distance = state_trip_distance.drop(columns=['Unnamed: 0'])\n"
   ]
  },
  {
   "cell_type": "code",
   "execution_count": 11,
   "metadata": {},
   "outputs": [],
   "source": [
    "us_cities_state = us_cities_state.merge(city_trip_distance).merge(state_trip_distance)\n",
    "us_cities_state[\"trip_distance_prop\"] = us_cities_state[\"interpolated_tract_miles_traveled\"] / us_cities_state[\"total_miles_state\"]"
   ]
  },
  {
   "cell_type": "code",
   "execution_count": 12,
   "metadata": {},
   "outputs": [
    {
     "data": {
      "text/html": [
       "<div>\n",
       "<style scoped>\n",
       "    .dataframe tbody tr th:only-of-type {\n",
       "        vertical-align: middle;\n",
       "    }\n",
       "\n",
       "    .dataframe tbody tr th {\n",
       "        vertical-align: top;\n",
       "    }\n",
       "\n",
       "    .dataframe thead th {\n",
       "        text-align: right;\n",
       "    }\n",
       "</style>\n",
       "<table border=\"1\" class=\"dataframe\">\n",
       "  <thead>\n",
       "    <tr style=\"text-align: right;\">\n",
       "      <th></th>\n",
       "      <th>place_id</th>\n",
       "      <th>NAME</th>\n",
       "      <th>name</th>\n",
       "      <th>state</th>\n",
       "      <th>fip</th>\n",
       "      <th>interpolated_pop</th>\n",
       "      <th>pop_prop</th>\n",
       "      <th>vehicle_household_prop</th>\n",
       "      <th>trip_distance_prop</th>\n",
       "    </tr>\n",
       "  </thead>\n",
       "  <tbody>\n",
       "    <tr>\n",
       "      <th>335</th>\n",
       "      <td>231489518</td>\n",
       "      <td>Texas</td>\n",
       "      <td>Safran Electronics &amp; Defense</td>\n",
       "      <td>Texas</td>\n",
       "      <td>48</td>\n",
       "      <td>17.470144</td>\n",
       "      <td>6.100882e-07</td>\n",
       "      <td>6.868199e-07</td>\n",
       "      <td>5.551516e-07</td>\n",
       "    </tr>\n",
       "    <tr>\n",
       "      <th>1126</th>\n",
       "      <td>297050654</td>\n",
       "      <td>Ohio</td>\n",
       "      <td>Madison</td>\n",
       "      <td>Ohio</td>\n",
       "      <td>39</td>\n",
       "      <td>3147.410827</td>\n",
       "      <td>2.695792e-04</td>\n",
       "      <td>2.920847e-04</td>\n",
       "      <td>2.276698e-04</td>\n",
       "    </tr>\n",
       "    <tr>\n",
       "      <th>1917</th>\n",
       "      <td>297106964</td>\n",
       "      <td>New Jersey</td>\n",
       "      <td>Cherry Hill Township</td>\n",
       "      <td>New Jersey</td>\n",
       "      <td>34</td>\n",
       "      <td>71390.462099</td>\n",
       "      <td>8.034564e-03</td>\n",
       "      <td>8.881326e-03</td>\n",
       "      <td>7.702554e-03</td>\n",
       "    </tr>\n",
       "  </tbody>\n",
       "</table>\n",
       "</div>"
      ],
      "text/plain": [
       "       place_id        NAME                          name       state fip  \\\n",
       "335   231489518       Texas  Safran Electronics & Defense       Texas  48   \n",
       "1126  297050654        Ohio                       Madison        Ohio  39   \n",
       "1917  297106964  New Jersey          Cherry Hill Township  New Jersey  34   \n",
       "\n",
       "      interpolated_pop      pop_prop  vehicle_household_prop  \\\n",
       "335          17.470144  6.100882e-07            6.868199e-07   \n",
       "1126       3147.410827  2.695792e-04            2.920847e-04   \n",
       "1917      71390.462099  8.034564e-03            8.881326e-03   \n",
       "\n",
       "      trip_distance_prop  \n",
       "335         5.551516e-07  \n",
       "1126        2.276698e-04  \n",
       "1917        7.702554e-03  "
      ]
     },
     "execution_count": 12,
     "metadata": {},
     "output_type": "execute_result"
    }
   ],
   "source": [
    "city_weights = us_cities_state[[\"place_id\", \"NAME\", \"name\", \"state\", \"fip\", \"interpolated_pop\", \"pop_prop\", \"vehicle_household_prop\", \"trip_distance_prop\"]]\n",
    "city_weights.sample(3)"
   ]
  },
  {
   "cell_type": "code",
   "execution_count": 13,
   "metadata": {},
   "outputs": [],
   "source": [
    "state_fuel = pd.read_csv(\"../../data/state_sales_23.csv\")\n",
    "state_fuel.head(3)\n",
    "state_fuel = state_fuel.drop(columns=\"Unnamed: 0\")"
   ]
  },
  {
   "cell_type": "code",
   "execution_count": 14,
   "metadata": {},
   "outputs": [],
   "source": [
    "us_cities_state_fuel = state_fuel.merge(us_cities_state, left_on = \"state\", right_on = \"state\")\n",
    "us_cities_state_fuel[\"fuel_weighted_pop\"] = us_cities_state_fuel[\"total_fuel\"] * us_cities_state_fuel[\"pop_prop\"]\n",
    "us_cities_state_fuel[\"fuel_weighted_vehicle_households\"] = us_cities_state_fuel[\"total_fuel\"] * us_cities_state_fuel[\"vehicle_household_prop\"]\n",
    "us_cities_state_fuel[\"fuel_weighted_trip_dist\"] = us_cities_state_fuel[\"total_fuel\"] * us_cities_state_fuel[\"trip_distance_prop\"]"
   ]
  },
  {
   "cell_type": "code",
   "execution_count": 15,
   "metadata": {},
   "outputs": [],
   "source": [
    "us_cities_state_fuel_wo_geom = us_cities_state_fuel.drop(columns='geometry')"
   ]
  },
  {
   "cell_type": "code",
   "execution_count": 16,
   "metadata": {},
   "outputs": [],
   "source": [
    "us_cities_state_fuel_wo_geom.to_csv('../../data/fuel_sales_estimates_by_city.csv',index=False)"
   ]
  },
  {
   "cell_type": "code",
   "execution_count": null,
   "metadata": {},
   "outputs": [],
   "source": []
  }
 ],
 "metadata": {
  "kernelspec": {
   "display_name": "canyon_nest",
   "language": "python",
   "name": "python3"
  },
  "language_info": {
   "codemirror_mode": {
    "name": "ipython",
    "version": 3
   },
   "file_extension": ".py",
   "mimetype": "text/x-python",
   "name": "python",
   "nbconvert_exporter": "python",
   "pygments_lexer": "ipython3",
   "version": "3.9.18"
  }
 },
 "nbformat": 4,
 "nbformat_minor": 2
}
